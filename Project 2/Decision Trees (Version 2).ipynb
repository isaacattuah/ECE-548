{
 "cells": [
  {
   "cell_type": "markdown",
   "metadata": {
    "id": "08PdwxNGMbHj"
   },
   "source": [
    "# Project Two\n",
    "Jerome Fleischman, Daniel Portuondo, Isaac Attuah"
   ]
  },
  {
   "cell_type": "markdown",
   "metadata": {
    "id": "6wtdEOWiK5SX"
   },
   "source": [
    "Our goal for this project is to explore the formation of different decision trees from various subets within three domains from the UCI repository. This program will utilize the J48 Weka program\n",
    "The domains that will be explored are:\n",
    "* Congressional Voting\n",
    "* Mushrooms\n",
    "* Tic-Tac-Toe\n",
    "* Dry Beans"
   ]
  },
  {
   "cell_type": "markdown",
   "metadata": {
    "id": "6G5Q_25INpq2"
   },
   "source": [
    "### Import Libraries"
   ]
  },
  {
   "cell_type": "code",
   "execution_count": 1,
   "metadata": {
    "colab": {
     "base_uri": "https://localhost:8080/"
    },
    "executionInfo": {
     "elapsed": 5243,
     "status": "ok",
     "timestamp": 1616879600425,
     "user": {
      "displayName": "Isaac Attuah",
      "photoUrl": "https://lh3.googleusercontent.com/a-/AOh14GgO8HkguNGfmgeV5lqvSrx9bdHAIZo3rNStgOKc9w=s64",
      "userId": "03432212012291159776"
     },
     "user_tz": 240
    },
    "id": "R33sGnSQNWOA",
    "outputId": "451b24a2-2c3f-4284-8cbc-e2417ad210cb"
   },
   "outputs": [
    {
     "name": "stderr",
     "output_type": "stream",
     "text": [
      "The system cannot find the path specified.\n",
      "java version \"11.0.2\" 2019-01-15 LTS\n",
      "Java(TM) SE Runtime Environment 18.9 (build 11.0.2+9-LTS)\n",
      "Java HotSpot(TM) 64-Bit Server VM 18.9 (build 11.0.2+9-LTS, mixed mode)\n",
      "'C:\\Users\\Isaac' is not recognized as an internal or external command,\n",
      "operable program or batch file.\n"
     ]
    },
    {
     "ename": "JVMNotFoundError",
     "evalue": "Can't find the Java Virtual Machine",
     "output_type": "error",
     "traceback": [
      "\u001b[1;31m---------------------------------------------------------------------------\u001b[0m",
      "\u001b[1;31mJVMNotFoundError\u001b[0m                          Traceback (most recent call last)",
      "\u001b[1;32m<ipython-input-1-ccb43e74b871>\u001b[0m in \u001b[0;36m<module>\u001b[1;34m\u001b[0m\n\u001b[0;32m     13\u001b[0m \u001b[1;31m#Import Weka\u001b[0m\u001b[1;33m\u001b[0m\u001b[1;33m\u001b[0m\u001b[1;33m\u001b[0m\u001b[0m\n\u001b[0;32m     14\u001b[0m \u001b[1;33m\u001b[0m\u001b[0m\n\u001b[1;32m---> 15\u001b[1;33m \u001b[1;32mimport\u001b[0m \u001b[0mweka\u001b[0m\u001b[1;33m.\u001b[0m\u001b[0mcore\u001b[0m\u001b[1;33m.\u001b[0m\u001b[0mjvm\u001b[0m \u001b[1;32mas\u001b[0m \u001b[0mjvm\u001b[0m\u001b[1;33m\u001b[0m\u001b[1;33m\u001b[0m\u001b[0m\n\u001b[0m\u001b[0;32m     16\u001b[0m \u001b[1;32mimport\u001b[0m \u001b[0mweka\u001b[0m\u001b[1;33m.\u001b[0m\u001b[0mcore\u001b[0m\u001b[1;33m.\u001b[0m\u001b[0mconverters\u001b[0m \u001b[1;32mas\u001b[0m \u001b[0mconv\u001b[0m\u001b[1;33m\u001b[0m\u001b[1;33m\u001b[0m\u001b[0m\n\u001b[0;32m     17\u001b[0m \u001b[1;32mfrom\u001b[0m \u001b[0mweka\u001b[0m\u001b[1;33m.\u001b[0m\u001b[0mclassifiers\u001b[0m \u001b[1;32mimport\u001b[0m \u001b[0mEvaluation\u001b[0m\u001b[1;33m,\u001b[0m \u001b[0mClassifier\u001b[0m\u001b[1;33m\u001b[0m\u001b[1;33m\u001b[0m\u001b[0m\n",
      "\u001b[1;32m~\\anaconda3\\lib\\site-packages\\weka\\core\\jvm.py\u001b[0m in \u001b[0;36m<module>\u001b[1;34m\u001b[0m\n\u001b[0;32m     15\u001b[0m \u001b[1;31m# Copyright (C) 2014-2020 Fracpete (pythonwekawrapper at gmail dot com)\u001b[0m\u001b[1;33m\u001b[0m\u001b[1;33m\u001b[0m\u001b[1;33m\u001b[0m\u001b[0m\n\u001b[0;32m     16\u001b[0m \u001b[1;33m\u001b[0m\u001b[0m\n\u001b[1;32m---> 17\u001b[1;33m \u001b[1;32mimport\u001b[0m \u001b[0mjavabridge\u001b[0m\u001b[1;33m\u001b[0m\u001b[1;33m\u001b[0m\u001b[0m\n\u001b[0m\u001b[0;32m     18\u001b[0m \u001b[1;32mimport\u001b[0m \u001b[0mos\u001b[0m\u001b[1;33m\u001b[0m\u001b[1;33m\u001b[0m\u001b[0m\n\u001b[0;32m     19\u001b[0m \u001b[1;32mimport\u001b[0m \u001b[0mglob\u001b[0m\u001b[1;33m\u001b[0m\u001b[1;33m\u001b[0m\u001b[0m\n",
      "\u001b[1;32m~\\anaconda3\\lib\\site-packages\\javabridge\\__init__.py\u001b[0m in \u001b[0;36m<module>\u001b[1;34m\u001b[0m\n\u001b[0;32m     36\u001b[0m \u001b[1;33m\u001b[0m\u001b[0m\n\u001b[0;32m     37\u001b[0m \u001b[1;33m\u001b[0m\u001b[0m\n\u001b[1;32m---> 38\u001b[1;33m \u001b[1;32mfrom\u001b[0m \u001b[1;33m.\u001b[0m\u001b[0mjutil\u001b[0m \u001b[1;32mimport\u001b[0m \u001b[0mstart_vm\u001b[0m\u001b[1;33m,\u001b[0m \u001b[0mkill_vm\u001b[0m\u001b[1;33m,\u001b[0m \u001b[0mvm\u001b[0m\u001b[1;33m,\u001b[0m \u001b[0mactivate_awt\u001b[0m\u001b[1;33m,\u001b[0m \u001b[0mdeactivate_awt\u001b[0m\u001b[1;33m\u001b[0m\u001b[1;33m\u001b[0m\u001b[0m\n\u001b[0m\u001b[0;32m     39\u001b[0m \u001b[1;33m\u001b[0m\u001b[0m\n\u001b[0;32m     40\u001b[0m \u001b[1;32mfrom\u001b[0m \u001b[1;33m.\u001b[0m\u001b[0mjutil\u001b[0m \u001b[1;32mimport\u001b[0m \u001b[0mattach\u001b[0m\u001b[1;33m,\u001b[0m \u001b[0mdetach\u001b[0m\u001b[1;33m,\u001b[0m \u001b[0mget_env\u001b[0m\u001b[1;33m\u001b[0m\u001b[1;33m\u001b[0m\u001b[0m\n",
      "\u001b[1;32m~\\anaconda3\\lib\\site-packages\\javabridge\\jutil.py\u001b[0m in \u001b[0;36m<module>\u001b[1;34m\u001b[0m\n\u001b[0;32m    148\u001b[0m     \u001b[1;31m# msvcr...\u001b[0m\u001b[1;33m\u001b[0m\u001b[1;33m\u001b[0m\u001b[1;33m\u001b[0m\u001b[0m\n\u001b[0;32m    149\u001b[0m     \u001b[1;31m#\u001b[0m\u001b[1;33m\u001b[0m\u001b[1;33m\u001b[0m\u001b[1;33m\u001b[0m\u001b[0m\n\u001b[1;32m--> 150\u001b[1;33m     \u001b[0mos\u001b[0m\u001b[1;33m.\u001b[0m\u001b[0menviron\u001b[0m\u001b[1;33m[\u001b[0m\u001b[1;34m\"PATH\"\u001b[0m\u001b[1;33m]\u001b[0m \u001b[1;33m=\u001b[0m \u001b[0mos\u001b[0m\u001b[1;33m.\u001b[0m\u001b[0menviron\u001b[0m\u001b[1;33m[\u001b[0m\u001b[1;34m\"PATH\"\u001b[0m\u001b[1;33m]\u001b[0m \u001b[1;33m+\u001b[0m \u001b[0mos\u001b[0m\u001b[1;33m.\u001b[0m\u001b[0mpathsep\u001b[0m \u001b[1;33m+\u001b[0m \u001b[0m_find_jvm\u001b[0m\u001b[1;33m(\u001b[0m\u001b[1;33m)\u001b[0m \u001b[1;33m+\u001b[0m\u001b[0;31m \u001b[0m\u001b[0;31m\\\u001b[0m\u001b[1;33m\u001b[0m\u001b[1;33m\u001b[0m\u001b[0m\n\u001b[0m\u001b[0;32m    151\u001b[0m        \u001b[0mos\u001b[0m\u001b[1;33m.\u001b[0m\u001b[0mpathsep\u001b[0m \u001b[1;33m+\u001b[0m \u001b[0mos\u001b[0m\u001b[1;33m.\u001b[0m\u001b[0mpath\u001b[0m\u001b[1;33m.\u001b[0m\u001b[0mjoin\u001b[0m\u001b[1;33m(\u001b[0m\u001b[0mfind_javahome\u001b[0m\u001b[1;33m(\u001b[0m\u001b[1;33m)\u001b[0m\u001b[1;33m,\u001b[0m \u001b[1;34m\"bin\"\u001b[0m\u001b[1;33m)\u001b[0m\u001b[1;33m\u001b[0m\u001b[1;33m\u001b[0m\u001b[0m\n\u001b[0;32m    152\u001b[0m     \u001b[1;32mtry\u001b[0m\u001b[1;33m:\u001b[0m\u001b[1;33m\u001b[0m\u001b[1;33m\u001b[0m\u001b[0m\n",
      "\u001b[1;32m~\\anaconda3\\lib\\site-packages\\javabridge\\jutil.py\u001b[0m in \u001b[0;36m_find_jvm\u001b[1;34m()\u001b[0m\n\u001b[0;32m    137\u001b[0m         \u001b[0mjvm_dir\u001b[0m \u001b[1;33m=\u001b[0m \u001b[0m_find_jvm_windows\u001b[0m\u001b[1;33m(\u001b[0m\u001b[1;33m)\u001b[0m\u001b[1;33m\u001b[0m\u001b[1;33m\u001b[0m\u001b[0m\n\u001b[0;32m    138\u001b[0m         \u001b[1;32mif\u001b[0m \u001b[0mjvm_dir\u001b[0m \u001b[1;32mis\u001b[0m \u001b[1;32mNone\u001b[0m\u001b[1;33m:\u001b[0m\u001b[1;33m\u001b[0m\u001b[1;33m\u001b[0m\u001b[0m\n\u001b[1;32m--> 139\u001b[1;33m             \u001b[1;32mraise\u001b[0m \u001b[0mJVMNotFoundError\u001b[0m\u001b[1;33m(\u001b[0m\u001b[1;33m)\u001b[0m\u001b[1;33m\u001b[0m\u001b[1;33m\u001b[0m\u001b[0m\n\u001b[0m\u001b[0;32m    140\u001b[0m     \u001b[1;32melif\u001b[0m \u001b[0msys\u001b[0m\u001b[1;33m.\u001b[0m\u001b[0mplatform\u001b[0m \u001b[1;33m==\u001b[0m \u001b[1;34m'darwin'\u001b[0m\u001b[1;33m:\u001b[0m\u001b[1;33m\u001b[0m\u001b[1;33m\u001b[0m\u001b[0m\n\u001b[0;32m    141\u001b[0m         \u001b[0mjvm_dir\u001b[0m \u001b[1;33m=\u001b[0m \u001b[0m_find_jvm_mac\u001b[0m\u001b[1;33m(\u001b[0m\u001b[1;33m)\u001b[0m\u001b[1;33m\u001b[0m\u001b[1;33m\u001b[0m\u001b[0m\n",
      "\u001b[1;31mJVMNotFoundError\u001b[0m: Can't find the Java Virtual Machine"
     ]
    }
   ],
   "source": [
    "# Install JVM\n",
    "import os       #importing os to set environment variable\n",
    "def install_java():\n",
    "  !apt-get install -y openjdk-8-jdk-headless -qq > /dev/null      #install openjdk\n",
    "  os.environ[\"JAVA_HOME\"] = \"/usr/lib/jvm/java-8-openjdk-amd64\"     #set environment variable\n",
    "  !java -version       #check java version\n",
    "install_java()\n",
    "\n",
    "#Install Weka Wrapper\n",
    "import sys\n",
    "!{sys.executable} -m pip install python-weka-wrapper3\n",
    "\n",
    "#Import Weka\n",
    "\n",
    "import weka.core.jvm as jvm\n",
    "import weka.core.converters as conv\n",
    "from weka.classifiers import Evaluation, Classifier\n",
    "from weka.core.classes import Random\n",
    "from matplotlib import pyplot as plt\n",
    "\n",
    "#Import Timer\n",
    "import time"
   ]
  },
  {
   "cell_type": "markdown",
   "metadata": {
    "id": "yYKIVqcj_-Ov"
   },
   "source": [
    "## Congressional Voting"
   ]
  },
  {
   "cell_type": "markdown",
   "metadata": {
    "id": "PCzmmxdWAG9h"
   },
   "source": [
    "### Load Data"
   ]
  },
  {
   "cell_type": "code",
   "execution_count": null,
   "metadata": {
    "colab": {
     "base_uri": "https://localhost:8080/"
    },
    "executionInfo": {
     "elapsed": 7105,
     "status": "ok",
     "timestamp": 1616879602297,
     "user": {
      "displayName": "Isaac Attuah",
      "photoUrl": "https://lh3.googleusercontent.com/a-/AOh14GgO8HkguNGfmgeV5lqvSrx9bdHAIZo3rNStgOKc9w=s64",
      "userId": "03432212012291159776"
     },
     "user_tz": 240
    },
    "id": "3DCI6ESEAfme",
    "outputId": "b0b4865d-d13e-454b-abeb-33403ff9551a"
   },
   "outputs": [
    {
     "name": "stderr",
     "output_type": "stream",
     "text": [
      "DEBUG:weka.core.jvm:Adding bundled jars\n",
      "DEBUG:weka.core.jvm:Classpath=['/usr/local/lib/python3.7/dist-packages/javabridge/jars/rhino-1.7R4.jar', '/usr/local/lib/python3.7/dist-packages/javabridge/jars/runnablequeue.jar', '/usr/local/lib/python3.7/dist-packages/javabridge/jars/cpython.jar', '/usr/local/lib/python3.7/dist-packages/weka/lib/weka.jar', '/usr/local/lib/python3.7/dist-packages/weka/lib/python-weka-wrapper.jar']\n",
      "DEBUG:weka.core.jvm:MaxHeapSize=default\n",
      "DEBUG:weka.core.jvm:Package support enabled\n"
     ]
    }
   ],
   "source": [
    "# start jvm\n",
    "jvm.start(packages=True)\n",
    "data = conv.load_any_file(os.environ.get(\"JAVA_HOME\")+os.sep+\"house-votes-84.csv\")\n",
    "data.randomize(Random(1))\n",
    "num_of_instances = data.num_instances\n",
    "training_allocation = int(0.70 * num_of_instances)\n",
    "training = data.subset(row_range='first-%s' %training_allocation)\n",
    "testing = data.subset(row_range='%s-last' %training_allocation)\n",
    "training.class_is_first() #class location\n",
    "testing.class_is_first()"
   ]
  },
  {
   "cell_type": "markdown",
   "metadata": {
    "id": "I8LqT0iNALJU"
   },
   "source": [
    "## Configure Decision Tree Classifier"
   ]
  },
  {
   "cell_type": "code",
   "execution_count": null,
   "metadata": {
    "colab": {
     "base_uri": "https://localhost:8080/"
    },
    "executionInfo": {
     "elapsed": 7099,
     "status": "ok",
     "timestamp": 1616879602300,
     "user": {
      "displayName": "Isaac Attuah",
      "photoUrl": "https://lh3.googleusercontent.com/a-/AOh14GgO8HkguNGfmgeV5lqvSrx9bdHAIZo3rNStgOKc9w=s64",
      "userId": "03432212012291159776"
     },
     "user_tz": 240
    },
    "id": "hsfwNXLbAtFB",
    "outputId": "0153de33-7512-4b13-e9f1-800edb03b1d6"
   },
   "outputs": [
    {
     "name": "stdout",
     "output_type": "stream",
     "text": [
      "=== J48 on Congressional Voting (stats) ===\n",
      "Correctly Classified Instances         127               96.2121 %\n",
      "Incorrectly Classified Instances         5                3.7879 %\n",
      "Kappa statistic                          0.9214\n",
      "Mean absolute error                      0.0661\n",
      "Root mean squared error                  0.1777\n",
      "Relative absolute error                 13.7463 %\n",
      "Root relative squared error             36.2497 %\n",
      "Total Number of Instances              132     \n",
      "\n",
      "=== J48 on Congressional Voting (confusion matrix) ===\n",
      "  a  b   <-- classified as\n",
      " 51  2 |  a = republican\n",
      "  3 76 |  b = democrat\n",
      "\n"
     ]
    }
   ],
   "source": [
    "# configure classifier\n",
    "cls = Classifier(classname=\"weka.classifiers.trees.J48\", options=[\"-C\", \"0.3\"])\n",
    "cls.build_classifier(training)\n",
    "# cross-validate classifier\n",
    "\n",
    "evl = Evaluation(testing)\n",
    "#evl.crossvalidate_model(cls, testing, 10, Random(1))\n",
    "#evl.evaluate_train_test_split(cls,testing,0.7)\n",
    "evl.test_model(cls, testing)\n",
    "\n",
    "\n",
    "# output statistics\n",
    "print(evl.summary(\"=== J48 on Congressional Voting (stats) ===\", False))\n",
    "print(evl.matrix(\"=== J48 on Congressional Voting (confusion matrix) ===\"))\n",
    "#print(evl.percent_correct)\n",
    "#print(evl.percent_incorrect)"
   ]
  },
  {
   "cell_type": "markdown",
   "metadata": {
    "id": "7nOCAtvuARZd"
   },
   "source": [
    "## Configure Decision Tree Classifier on Subsets"
   ]
  },
  {
   "cell_type": "code",
   "execution_count": null,
   "metadata": {
    "colab": {
     "base_uri": "https://localhost:8080/"
    },
    "executionInfo": {
     "elapsed": 7664,
     "status": "ok",
     "timestamp": 1616879602874,
     "user": {
      "displayName": "Isaac Attuah",
      "photoUrl": "https://lh3.googleusercontent.com/a-/AOh14GgO8HkguNGfmgeV5lqvSrx9bdHAIZo3rNStgOKc9w=s64",
      "userId": "03432212012291159776"
     },
     "user_tz": 240
    },
    "id": "kfxhmZLyA25J",
    "outputId": "52c5f8ef-22f4-4474-f6ef-23089050463f"
   },
   "outputs": [
    {
     "name": "stdout",
     "output_type": "stream",
     "text": [
      "[96.21212121212122, 94.6969696969697, 95.45454545454545, 95.45454545454545, 96.21212121212122, 96.21212121212122, 96.21212121212122, 98.48484848484848, 96.96969696969697, 96.21212121212122]\n",
      "[3.787878787878788, 5.303030303030303, 4.545454545454546, 4.545454545454546, 3.787878787878788, 3.787878787878788, 3.787878787878788, 1.5151515151515151, 3.0303030303030303, 3.787878787878788]\n",
      "[0.0049935130000449135, 0.005156044000159454, 0.006105146000209061, 0.009621991000130947, 0.007616476000293915, 0.0110255419999703, 0.009152423000159615, 0.011286920999737049, 0.02372159099968485, 0.01282728300020608]\n",
      "[30, 60, 91, 121, 152, 182, 212, 243, 273, 304]\n"
     ]
    }
   ],
   "source": [
    "# generate subsets\n",
    "num_of_instances = training.num_instances\n",
    "num_of_subsets = 10\n",
    "subset_accuracy_rates = []\n",
    "subset_error_rates = []\n",
    "induction_times = []\n",
    "examples = []\n",
    "\n",
    "for i in range(1,num_of_subsets + 1):\n",
    "  subset_val = int((i/num_of_subsets) * num_of_instances)\n",
    "  examples.append(subset_val)\n",
    "  x = training.subset(row_range='first-%s'%subset_val)\n",
    "\n",
    "\n",
    "  # configure classifier\n",
    "  tic = time.perf_counter()\n",
    "  cls = Classifier(classname=\"weka.classifiers.trees.J48\", options=[\"-C\", \"0.3\"])\n",
    "  cls.build_classifier(x)\n",
    "  # cross-validate classifier\n",
    "  evl = Evaluation(testing)\n",
    "  #evl.crossvalidate_model(cls, testing, 10, Random(1))\n",
    "  #evl.evaluate_train_test_split(cls,testing,0.7)\n",
    "  evl.test_model(cls, testing)\n",
    "  tic = time.perf_counter() - tic\n",
    "\n",
    "  # append subests and induction times\n",
    "  subset_accuracy_rates.append(float(evl.percent_correct))\n",
    "  subset_error_rates.append(float(evl.percent_incorrect))\n",
    "  induction_times.append(tic)\n",
    "\n",
    "\n",
    "print(subset_accuracy_rates)\n",
    "print(subset_error_rates)\n",
    "print(induction_times)\n",
    "print(examples)"
   ]
  },
  {
   "cell_type": "markdown",
   "metadata": {
    "id": "NE32-sLBAT9O"
   },
   "source": [
    "## Plots"
   ]
  },
  {
   "cell_type": "code",
   "execution_count": null,
   "metadata": {
    "colab": {
     "base_uri": "https://localhost:8080/",
     "height": 295
    },
    "executionInfo": {
     "elapsed": 7654,
     "status": "ok",
     "timestamp": 1616879602876,
     "user": {
      "displayName": "Isaac Attuah",
      "photoUrl": "https://lh3.googleusercontent.com/a-/AOh14GgO8HkguNGfmgeV5lqvSrx9bdHAIZo3rNStgOKc9w=s64",
      "userId": "03432212012291159776"
     },
     "user_tz": 240
    },
    "id": "06fzDkycA7rN",
    "outputId": "d627a290-62c9-4bf8-ac7e-7b28cfa55681"
   },
   "outputs": [
    {
     "data": {
      "image/png": "[encoded data removed]",
      "text/plain": [
       "<Figure size 432x288 with 1 Axes>"
      ]
     },
     "metadata": {
      "needs_background": "light",
      "tags": []
     },
     "output_type": "display_data"
    }
   ],
   "source": [
    "plt.plot(examples , subset_error_rates)\n",
    "plt.xlabel(\"Number of Examples\")\n",
    "plt.ylabel(\"Error Rate\")\n",
    "plt.title('Error Rate vs Number of Examples')\n",
    "#plt.savefig('congress(errors).png')"
   ]
  },
  {
   "cell_type": "code",
   "execution_count": null,
   "metadata": {
    "colab": {
     "base_uri": "https://localhost:8080/",
     "height": 295
    },
    "executionInfo": {
     "elapsed": 8010,
     "status": "ok",
     "timestamp": 1616879603247,
     "user": {
      "displayName": "Isaac Attuah",
      "photoUrl": "https://lh3.googleusercontent.com/a-/AOh14GgO8HkguNGfmgeV5lqvSrx9bdHAIZo3rNStgOKc9w=s64",
      "userId": "03432212012291159776"
     },
     "user_tz": 240
    },
    "id": "PD6FQ7lGA79J",
    "outputId": "ff93f5fd-dc02-4896-b745-fd829e2ce302"
   },
   "outputs": [
    {
     "data": {
      "image/png": "[encoded data removed]",
      "text/plain": [
       "<Figure size 432x288 with 1 Axes>"
      ]
     },
     "metadata": {
      "needs_background": "light",
      "tags": []
     },
     "output_type": "display_data"
    }
   ],
   "source": [
    "plt.plot(examples , induction_times)\n",
    "plt.xlabel(\"Number of Examples\")\n",
    "plt.ylabel(\"Computational Time of Induction\")\n",
    "plt.title('Computational Time of Induction vs Number of Examples')\n",
    "#plt.savefig('congress(times).png')"
   ]
  },
  {
   "cell_type": "markdown",
   "metadata": {
    "id": "ggXZBt91VueI"
   },
   "source": [
    "## Mushrooms"
   ]
  },
  {
   "cell_type": "markdown",
   "metadata": {
    "id": "jeKX6w-aSrr-"
   },
   "source": [
    "### Load Data"
   ]
  },
  {
   "cell_type": "code",
   "execution_count": null,
   "metadata": {
    "id": "9JTa6pyHSyuv"
   },
   "outputs": [],
   "source": [
    "data = conv.load_any_file(os.environ.get(\"JAVA_HOME\")+os.sep+\"mushroom_data.csv\")\n",
    "data.randomize(Random(1))\n",
    "num_of_instances = data.num_instances\n",
    "training_allocation = int(0.70 * num_of_instances)\n",
    "training = data.subset(row_range='first-%s' %training_allocation)\n",
    "testing = data.subset(row_range='%s-last' %training_allocation)\n",
    "training.class_is_first() #class location\n",
    "testing.class_is_first()"
   ]
  },
  {
   "cell_type": "markdown",
   "metadata": {
    "id": "nrqcHNH7VT1f"
   },
   "source": [
    "### Configure Decision Tree Classifier"
   ]
  },
  {
   "cell_type": "code",
   "execution_count": null,
   "metadata": {
    "colab": {
     "base_uri": "https://localhost:8080/"
    },
    "executionInfo": {
     "elapsed": 8330,
     "status": "ok",
     "timestamp": 1616879603583,
     "user": {
      "displayName": "Isaac Attuah",
      "photoUrl": "https://lh3.googleusercontent.com/a-/AOh14GgO8HkguNGfmgeV5lqvSrx9bdHAIZo3rNStgOKc9w=s64",
      "userId": "03432212012291159776"
     },
     "user_tz": 240
    },
    "id": "wwHxTKuPVTJc",
    "outputId": "8586d562-6d27-4020-9be9-13da72abfbe1"
   },
   "outputs": [
    {
     "name": "stdout",
     "output_type": "stream",
     "text": [
      "=== J48 on Mushroom (stats) ===\n",
      "Correctly Classified Instances        2526              100      %\n",
      "Incorrectly Classified Instances         0                0      %\n",
      "Kappa statistic                          1     \n",
      "Mean absolute error                      0     \n",
      "Root mean squared error                  0     \n",
      "Relative absolute error                  0      %\n",
      "Root relative squared error              0      %\n",
      "Total Number of Instances             2526     \n",
      "\n",
      "=== J48 on Mushroom (confusion matrix) ===\n",
      "    a    b   <-- classified as\n",
      " 1341    0 |    a = EDIBLE\n",
      "    0 1185 |    b = POISONOUS\n",
      "\n"
     ]
    }
   ],
   "source": [
    "# configure classifier\n",
    "cls = Classifier(classname=\"weka.classifiers.trees.J48\", options=[\"-C\", \"0.3\"])\n",
    "cls.build_classifier(training)\n",
    "# cross-validate classifier\n",
    "\n",
    "evl = Evaluation(testing)\n",
    "#evl.crossvalidate_model(cls, testing, 10, Random(1))\n",
    "#evl.evaluate_train_test_split(cls,testing,0.7)\n",
    "evl.test_model(cls, testing)\n",
    "\n",
    "\n",
    "# output statistics\n",
    "print(evl.summary(\"=== J48 on Mushroom (stats) ===\", False))\n",
    "print(evl.matrix(\"=== J48 on Mushroom (confusion matrix) ===\"))\n",
    "#print(evl.percent_correct)\n",
    "#print(evl.percent_incorrect)"
   ]
  },
  {
   "cell_type": "markdown",
   "metadata": {
    "id": "zCPSiEGMmONY"
   },
   "source": [
    "### Configure Decision Tree Classifier on Subsets"
   ]
  },
  {
   "cell_type": "code",
   "execution_count": null,
   "metadata": {
    "colab": {
     "base_uri": "https://localhost:8080/"
    },
    "executionInfo": {
     "elapsed": 9029,
     "status": "ok",
     "timestamp": 1616879604289,
     "user": {
      "displayName": "Isaac Attuah",
      "photoUrl": "https://lh3.googleusercontent.com/a-/AOh14GgO8HkguNGfmgeV5lqvSrx9bdHAIZo3rNStgOKc9w=s64",
      "userId": "03432212012291159776"
     },
     "user_tz": 240
    },
    "id": "wIrRgvKZiCvh",
    "outputId": "93f55136-9136-4803-955c-37bc5e142f6c"
   },
   "outputs": [
    {
     "name": "stdout",
     "output_type": "stream",
     "text": [
      "[99.08946951702296, 99.08946951702296, 99.72288202692003, 100.0, 100.0, 100.0, 100.0, 100.0, 100.0, 100.0]\n",
      "[0.9105304829770388, 0.9105304829770388, 0.2771179730799683, 0.0, 0.0, 0.0, 0.0, 0.0, 0.0, 0.0]\n",
      "[0.013516118000097777, 0.015859909000027983, 0.018472510000265174, 0.020991314000184502, 0.03146434800009956, 0.033728323000104865, 0.027903680999770586, 0.021338513000046078, 0.03346844199995758, 0.02436811300003683]\n",
      "[589, 1178, 1767, 2356, 2945, 3534, 4123, 4712, 5301, 5891]\n"
     ]
    }
   ],
   "source": [
    "# generate subsets\n",
    "num_of_instances = training.num_instances\n",
    "num_of_subsets = 10\n",
    "subset_accuracy_rates = []\n",
    "subset_error_rates = []\n",
    "induction_times = []\n",
    "examples = []\n",
    "\n",
    "for i in range(1,num_of_subsets + 1):\n",
    "  subset_val = int((i/num_of_subsets) * num_of_instances)\n",
    "  examples.append(subset_val)\n",
    "  x = training.subset(row_range='first-%s'%subset_val)\n",
    "\n",
    "\n",
    "  # configure classifier\n",
    "  tic = time.perf_counter()\n",
    "  cls = Classifier(classname=\"weka.classifiers.trees.J48\", options=[\"-C\", \"0.3\"])\n",
    "  cls.build_classifier(x)\n",
    "  # cross-validate classifier\n",
    "  evl = Evaluation(testing)\n",
    "  #evl.crossvalidate_model(cls, testing, 10, Random(1))\n",
    "  #evl.evaluate_train_test_split(cls,testing,0.7)\n",
    "  evl.test_model(cls, testing)\n",
    "  tic = time.perf_counter() - tic\n",
    "\n",
    "  # append subests and induction times\n",
    "  subset_accuracy_rates.append(float(evl.percent_correct))\n",
    "  subset_error_rates.append(float(evl.percent_incorrect))\n",
    "  induction_times.append(tic)\n",
    "\n",
    "\n",
    "print(subset_accuracy_rates)\n",
    "print(subset_error_rates)\n",
    "print(induction_times)\n",
    "print(examples)"
   ]
  },
  {
   "cell_type": "markdown",
   "metadata": {
    "id": "D8dOSZW-tGXX"
   },
   "source": [
    "### Plots"
   ]
  },
  {
   "cell_type": "code",
   "execution_count": null,
   "metadata": {
    "colab": {
     "base_uri": "https://localhost:8080/",
     "height": 295
    },
    "executionInfo": {
     "elapsed": 9021,
     "status": "ok",
     "timestamp": 1616879604291,
     "user": {
      "displayName": "Isaac Attuah",
      "photoUrl": "https://lh3.googleusercontent.com/a-/AOh14GgO8HkguNGfmgeV5lqvSrx9bdHAIZo3rNStgOKc9w=s64",
      "userId": "03432212012291159776"
     },
     "user_tz": 240
    },
    "id": "9TZssovvwn8-",
    "outputId": "61d1b47c-a966-486d-9dde-6b663296bcdb"
   },
   "outputs": [
    {
     "data": {
      "image/png": "[encoded data removed]",
      "text/plain": [
       "<Figure size 432x288 with 1 Axes>"
      ]
     },
     "metadata": {
      "needs_background": "light",
      "tags": []
     },
     "output_type": "display_data"
    }
   ],
   "source": [
    "plt.plot(examples , subset_error_rates)\n",
    "plt.xlabel(\"Number of Examples\")\n",
    "plt.ylabel(\"Error Rate\")\n",
    "plt.title('Error Rate vs Number of Examples')\n",
    "#plt.savefig('mushroom(errors).png')"
   ]
  },
  {
   "cell_type": "code",
   "execution_count": null,
   "metadata": {
    "colab": {
     "base_uri": "https://localhost:8080/",
     "height": 295
    },
    "executionInfo": {
     "elapsed": 9402,
     "status": "ok",
     "timestamp": 1616879604682,
     "user": {
      "displayName": "Isaac Attuah",
      "photoUrl": "https://lh3.googleusercontent.com/a-/AOh14GgO8HkguNGfmgeV5lqvSrx9bdHAIZo3rNStgOKc9w=s64",
      "userId": "03432212012291159776"
     },
     "user_tz": 240
    },
    "id": "RxKxg8w5yco_",
    "outputId": "746abdc8-3261-49f7-f7e9-5ed8d86484e4"
   },
   "outputs": [
    {
     "data": {
      "image/png": "[encoded data removed]",
      "text/plain": [
       "<Figure size 432x288 with 1 Axes>"
      ]
     },
     "metadata": {
      "needs_background": "light",
      "tags": []
     },
     "output_type": "display_data"
    }
   ],
   "source": [
    "plt.plot(examples , induction_times)\n",
    "plt.xlabel(\"Number of Examples\")\n",
    "plt.ylabel(\"Computational Time of Induction\")\n",
    "plt.title('Computational Time of Induction vs Number of Examples')\n",
    "plt.savefig('mushroom(times).png')"
   ]
  },
  {
   "cell_type": "markdown",
   "metadata": {
    "id": "rYYdUw2PHXrE"
   },
   "source": [
    "## Tic-Tac-Toe / Connect 4\n"
   ]
  },
  {
   "cell_type": "markdown",
   "metadata": {
    "id": "v5FrrohVHrl2"
   },
   "source": [
    "## Load Data"
   ]
  },
  {
   "cell_type": "code",
   "execution_count": null,
   "metadata": {
    "colab": {
     "base_uri": "https://localhost:8080/"
    },
    "executionInfo": {
     "elapsed": 9393,
     "status": "ok",
     "timestamp": 1616879604684,
     "user": {
      "displayName": "Isaac Attuah",
      "photoUrl": "https://lh3.googleusercontent.com/a-/AOh14GgO8HkguNGfmgeV5lqvSrx9bdHAIZo3rNStgOKc9w=s64",
      "userId": "03432212012291159776"
     },
     "user_tz": 240
    },
    "id": "u7ScPEsOHZaZ",
    "outputId": "b74c5f38-eec7-4abe-bbe4-66e2427f56b7"
   },
   "outputs": [
    {
     "name": "stderr",
     "output_type": "stream",
     "text": [
      "INFO:weka.core.jvm:JVM already running, call jvm.stop() first\n"
     ]
    }
   ],
   "source": [
    "jvm.start(packages=True)\n",
    "data = conv.load_any_file(os.environ.get(\"JAVA_HOME\")+os.sep+\"tic-tac-toe.csv\")\n",
    "data.randomize(Random(1))\n",
    "num_of_instances = data.num_instances\n",
    "training_allocation = int(0.70 * num_of_instances)\n",
    "training = data.subset(row_range='first-%s' %training_allocation)\n",
    "testing = data.subset(row_range='%s-last' %training_allocation)\n",
    "\n",
    "training.class_is_last() #class location\n",
    "testing.class_is_last() #class location"
   ]
  },
  {
   "cell_type": "markdown",
   "metadata": {
    "id": "cSgt-fKPHuyJ"
   },
   "source": [
    "### Configure Decision Tree Classifier"
   ]
  },
  {
   "cell_type": "code",
   "execution_count": null,
   "metadata": {
    "colab": {
     "base_uri": "https://localhost:8080/"
    },
    "executionInfo": {
     "elapsed": 9925,
     "status": "ok",
     "timestamp": 1616879605224,
     "user": {
      "displayName": "Isaac Attuah",
      "photoUrl": "https://lh3.googleusercontent.com/a-/AOh14GgO8HkguNGfmgeV5lqvSrx9bdHAIZo3rNStgOKc9w=s64",
      "userId": "03432212012291159776"
     },
     "user_tz": 240
    },
    "id": "LvUoeX-aIJNE",
    "outputId": "5440b638-27f8-44a3-ce67-b3ee8164ed19"
   },
   "outputs": [
    {
     "name": "stdout",
     "output_type": "stream",
     "text": [
      "=== J48 on Coupons (stats) ===\n",
      "Correctly Classified Instances         318               55.2083 %\n",
      "Incorrectly Classified Instances       258               44.7917 %\n",
      "Kappa statistic                          0.1929\n",
      "Mean absolute error                      0.4598\n",
      "Root mean squared error                  0.6519\n",
      "Relative absolute error                106.046  %\n",
      "Root relative squared error            140.2276 %\n",
      "Total Number of Instances              576     \n",
      "\n",
      "=== J48 on Coupons (confusion matrix) ===\n",
      "   a   b   <-- classified as\n",
      " 169 225 |   a = positive\n",
      "  33 149 |   b = negative\n",
      "\n"
     ]
    }
   ],
   "source": [
    "# configure classifier\n",
    "cls = Classifier(classname=\"weka.classifiers.trees.J48\", options=[\"-C\", \"0.3\"])\n",
    "cls.build_classifier(training)\n",
    "# cross-validate classifier\n",
    "\n",
    "evl = Evaluation(testing)\n",
    "#evl.crossvalidate_model(cls, testing, 10, Random(1))\n",
    "evl.evaluate_train_test_split(cls,testing,0.7)\n",
    "evl.test_model(cls, testing)\n",
    "\n",
    "\n",
    "# output statistics\n",
    "print(evl.summary(\"=== J48 on Coupons (stats) ===\", False))\n",
    "print(evl.matrix(\"=== J48 on Coupons (confusion matrix) ===\"))\n",
    "#print(evl.percent_correct)\n",
    "#print(evl.percent_incorrect)"
   ]
  },
  {
   "cell_type": "markdown",
   "metadata": {
    "id": "ZKc3t38DHz57"
   },
   "source": [
    "### Configure Decision Tree Classifier on Subsets"
   ]
  },
  {
   "cell_type": "code",
   "execution_count": null,
   "metadata": {
    "colab": {
     "base_uri": "https://localhost:8080/"
    },
    "executionInfo": {
     "elapsed": 9927,
     "status": "ok",
     "timestamp": 1616879605234,
     "user": {
      "displayName": "Isaac Attuah",
      "photoUrl": "https://lh3.googleusercontent.com/a-/AOh14GgO8HkguNGfmgeV5lqvSrx9bdHAIZo3rNStgOKc9w=s64",
      "userId": "03432212012291159776"
     },
     "user_tz": 240
    },
    "id": "gJ_hkZzRN-o5",
    "outputId": "52410d15-da1a-4efc-d563-2b83bca23205"
   },
   "outputs": [
    {
     "name": "stdout",
     "output_type": "stream",
     "text": [
      "[67.1280276816609, 73.35640138408304, 73.70242214532873, 73.01038062283737, 74.74048442906575, 74.0484429065744, 76.47058823529412, 82.69896193771626, 78.89273356401384, 78.89273356401384]\n",
      "[32.8719723183391, 26.643598615916954, 26.29757785467128, 26.98961937716263, 25.259515570934255, 25.951557093425606, 23.529411764705884, 17.301038062283737, 21.10726643598616, 21.10726643598616]\n",
      "[0.0040140920000339975, 0.004164826999840443, 0.004752968000047986, 0.005500222000137001, 0.0065852470002027985, 0.007202791000054276, 0.008123771000100533, 0.0108187360001466, 0.009537495999666135, 0.01018351899983827]\n",
      "[67, 134, 201, 268, 335, 402, 468, 536, 603, 670]\n"
     ]
    }
   ],
   "source": [
    "# generate subsets\n",
    "num_of_instances = training.num_instances\n",
    "num_of_subsets = 10\n",
    "subset_accuracy_rates = []\n",
    "subset_error_rates = []\n",
    "induction_times = []\n",
    "examples = []\n",
    "\n",
    "for i in range(1,num_of_subsets + 1):\n",
    "  subset_val = int((i/num_of_subsets) * num_of_instances)\n",
    "  examples.append(subset_val)\n",
    "  x = training.subset(row_range='first-%s'%subset_val)\n",
    "\n",
    "\n",
    "  # configure classifier\n",
    "  tic = time.perf_counter()\n",
    "  cls = Classifier(classname=\"weka.classifiers.trees.J48\", options=[\"-C\", \"0.3\"])\n",
    "  cls.build_classifier(x)\n",
    "  # cross-validate classifier\n",
    "  evl = Evaluation(testing)\n",
    "  #evl.crossvalidate_model(cls, testing, 10, Random(1))\n",
    "  #evl.evaluate_train_test_split(cls,testing,0.7)\n",
    "  evl.test_model(cls, testing)\n",
    "  tic = time.perf_counter() - tic\n",
    "\n",
    "  # append subests and induction times\n",
    "  subset_accuracy_rates.append(float(evl.percent_correct))\n",
    "  subset_error_rates.append(float(evl.percent_incorrect))\n",
    "  induction_times.append(tic)\n",
    "\n",
    "\n",
    "print(subset_accuracy_rates)\n",
    "print(subset_error_rates)\n",
    "print(induction_times)\n",
    "print(examples)"
   ]
  },
  {
   "cell_type": "markdown",
   "metadata": {
    "id": "nrOK-QfNHpcw"
   },
   "source": [
    "### Plots"
   ]
  },
  {
   "cell_type": "code",
   "execution_count": null,
   "metadata": {
    "colab": {
     "base_uri": "https://localhost:8080/",
     "height": 295
    },
    "executionInfo": {
     "elapsed": 9919,
     "status": "ok",
     "timestamp": 1616879605237,
     "user": {
      "displayName": "Isaac Attuah",
      "photoUrl": "https://lh3.googleusercontent.com/a-/AOh14GgO8HkguNGfmgeV5lqvSrx9bdHAIZo3rNStgOKc9w=s64",
      "userId": "03432212012291159776"
     },
     "user_tz": 240
    },
    "id": "ZpjdtdKUOFBI",
    "outputId": "4c44ceb7-babc-4433-9144-6936d657c67a"
   },
   "outputs": [
    {
     "data": {
      "image/png": "[encoded data removed]",
      "text/plain": [
       "<Figure size 432x288 with 1 Axes>"
      ]
     },
     "metadata": {
      "needs_background": "light",
      "tags": []
     },
     "output_type": "display_data"
    }
   ],
   "source": [
    "plt.plot(examples , subset_error_rates)\n",
    "plt.xlabel(\"Number of Examples\")\n",
    "plt.ylabel(\"Error Rate\")\n",
    "plt.title('Error Rate vs Number of Examples')\n",
    "#plt.savefig('tic-tac-toe(errors).png')"
   ]
  },
  {
   "cell_type": "code",
   "execution_count": null,
   "metadata": {
    "colab": {
     "base_uri": "https://localhost:8080/",
     "height": 295
    },
    "executionInfo": {
     "elapsed": 10373,
     "status": "ok",
     "timestamp": 1616879605705,
     "user": {
      "displayName": "Isaac Attuah",
      "photoUrl": "https://lh3.googleusercontent.com/a-/AOh14GgO8HkguNGfmgeV5lqvSrx9bdHAIZo3rNStgOKc9w=s64",
      "userId": "03432212012291159776"
     },
     "user_tz": 240
    },
    "id": "nKRTkC5gOFSD",
    "outputId": "8f958a5c-8f6a-4cef-fc14-c11d514d3301"
   },
   "outputs": [
    {
     "data": {
      "image/png": "[encoded data removed]",
      "text/plain": [
       "<Figure size 432x288 with 1 Axes>"
      ]
     },
     "metadata": {
      "needs_background": "light",
      "tags": []
     },
     "output_type": "display_data"
    }
   ],
   "source": [
    "plt.plot(examples , induction_times)\n",
    "plt.xlabel(\"Number of Examples\")\n",
    "plt.ylabel(\"Computational Time of Induction\")\n",
    "plt.title('Computational Time of Induction vs Number of Examples')\n",
    "#plt.savefig('tic-tac-toe(times).png')"
   ]
  },
  {
   "cell_type": "markdown",
   "metadata": {
    "id": "3rdYRvWeW04a"
   },
   "source": [
    "## Dry Beans"
   ]
  },
  {
   "cell_type": "markdown",
   "metadata": {
    "id": "ONjsYAZeXBs3"
   },
   "source": [
    "### Load data"
   ]
  },
  {
   "cell_type": "code",
   "execution_count": null,
   "metadata": {
    "id": "I465_9A5YK7X"
   },
   "outputs": [],
   "source": [
    "data = conv.load_any_file(os.environ.get(\"JAVA_HOME\")+os.sep+\"Dry_Bean_Dataset.csv\")\n",
    "data.randomize(Random(1))\n",
    "num_of_instances = data.num_instances\n",
    "training_allocation = int(0.70 * num_of_instances)\n",
    "training = data.subset(row_range='first-%s' %training_allocation)\n",
    "testing = data.subset(row_range='%s-last' %training_allocation)\n",
    "training.class_is_last() #class location\n",
    "testing.class_is_last()"
   ]
  },
  {
   "cell_type": "markdown",
   "metadata": {
    "id": "PRB2C09NCM0h"
   },
   "source": [
    "### Configure Decision Tree Classifier"
   ]
  },
  {
   "cell_type": "code",
   "execution_count": null,
   "metadata": {
    "colab": {
     "base_uri": "https://localhost:8080/"
    },
    "executionInfo": {
     "elapsed": 12162,
     "status": "ok",
     "timestamp": 1616879607509,
     "user": {
      "displayName": "Isaac Attuah",
      "photoUrl": "https://lh3.googleusercontent.com/a-/AOh14GgO8HkguNGfmgeV5lqvSrx9bdHAIZo3rNStgOKc9w=s64",
      "userId": "03432212012291159776"
     },
     "user_tz": 240
    },
    "id": "6j1sKiSFCMZe",
    "outputId": "f49e0e7f-821d-4e0a-b575-331d86a66574"
   },
   "outputs": [
    {
     "name": "stdout",
     "output_type": "stream",
     "text": [
      "=== J48 on Dry Beans (stats) ===\n",
      "Correctly Classified Instances        3703               90.6709 %\n",
      "Incorrectly Classified Instances       381                9.3291 %\n",
      "Kappa statistic                          0.8869\n",
      "Mean absolute error                      0.0328\n",
      "Root mean squared error                  0.1509\n",
      "Relative absolute error                 13.914  %\n",
      "Root relative squared error             43.9165 %\n",
      "Total Number of Instances             4084     \n",
      "\n",
      "=== J48 on Dry Beans (confusion matrix) ===\n",
      "    a    b    c    d    e    f    g   <-- classified as\n",
      "  564    4    0    0    0   18   17 |    a = SEKER\n",
      "    4  349    0   35    3   12    0 |    b = BARBUNYA\n",
      "    0    0  152    1    0    0    0 |    c = BOMBAY\n",
      "    0   25    1  417    8    8    0 |    d = CALI\n",
      "    0    3    0   15  552   22    8 |    e = HOROZ\n",
      "   15    5    0    6    9  657   96 |    f = SIRA\n",
      "   12    0    0    1    1   52 1012 |    g = DERMASON\n",
      "\n"
     ]
    }
   ],
   "source": [
    "# configure classifier\n",
    "cls = Classifier(classname=\"weka.classifiers.trees.J48\", options=[\"-C\", \"0.3\"])\n",
    "cls.build_classifier(training)\n",
    "# cross-validate classifier\n",
    "\n",
    "evl = Evaluation(testing)\n",
    "#evl.crossvalidate_model(cls, testing, 10, Random(1))\n",
    "#evl.evaluate_train_test_split(cls,testing,0.7)\n",
    "evl.test_model(cls, testing)\n",
    "\n",
    "\n",
    "# output statistics\n",
    "print(evl.summary(\"=== J48 on Dry Beans (stats) ===\", False))\n",
    "print(evl.matrix(\"=== J48 on Dry Beans (confusion matrix) ===\"))\n",
    "#print(evl.percent_correct)\n",
    "#print(evl.percent_incorrect)"
   ]
  },
  {
   "cell_type": "markdown",
   "metadata": {
    "id": "ZnJPQNqDCcUe"
   },
   "source": [
    "### Configure Decision Tree Classifier on Subsets"
   ]
  },
  {
   "cell_type": "code",
   "execution_count": null,
   "metadata": {
    "colab": {
     "base_uri": "https://localhost:8080/"
    },
    "executionInfo": {
     "elapsed": 14201,
     "status": "ok",
     "timestamp": 1616879609554,
     "user": {
      "displayName": "Isaac Attuah",
      "photoUrl": "https://lh3.googleusercontent.com/a-/AOh14GgO8HkguNGfmgeV5lqvSrx9bdHAIZo3rNStgOKc9w=s64",
      "userId": "03432212012291159776"
     },
     "user_tz": 240
    },
    "id": "JmEHapGgChxC",
    "outputId": "5c4bfb9a-143c-444b-c537-4c50e09a0cbb"
   },
   "outputs": [
    {
     "name": "stdout",
     "output_type": "stream",
     "text": [
      "[88.24681684622918, 89.22624877571009, 88.29578844270323, 90.69539666993144, 89.93633692458374, 90.67091087169442, 90.03428011753184, 90.40156709108717, 90.05876591576886, 90.67091087169442]\n",
      "[11.753183153770813, 10.773751224289912, 11.704211557296768, 9.304603330068561, 10.063663075416258, 9.329089128305583, 9.965719882468168, 9.59843290891283, 9.941234084231146, 9.329089128305583]\n",
      "[0.04608573099994828, 0.08787306900012481, 0.13830576000009387, 0.14387412800033417, 0.19701056599978983, 0.2955348230002528, 0.23309868599972106, 0.2600788170002488, 0.31047736199980136, 0.3503056250001464]\n",
      "[952, 1905, 2858, 3810, 4763, 5716, 6668, 7621, 8574, 9527]\n"
     ]
    }
   ],
   "source": [
    "# generate subsets\n",
    "num_of_instances = training.num_instances\n",
    "num_of_subsets = 10\n",
    "subset_accuracy_rates = []\n",
    "subset_error_rates = []\n",
    "induction_times = []\n",
    "examples = []\n",
    "\n",
    "for i in range(1,num_of_subsets + 1):\n",
    "  subset_val = int((i/num_of_subsets) * num_of_instances)\n",
    "  examples.append(subset_val)\n",
    "  x = training.subset(row_range='first-%s'%subset_val)\n",
    "\n",
    "\n",
    "  # configure classifier\n",
    "  tic = time.perf_counter()\n",
    "  cls = Classifier(classname=\"weka.classifiers.trees.J48\", options=[\"-C\", \"0.3\"])\n",
    "  cls.build_classifier(x)\n",
    "  # cross-validate classifier\n",
    "  evl = Evaluation(testing)\n",
    "  #evl.crossvalidate_model(cls, testing, 10, Random(1))\n",
    "  #evl.evaluate_train_test_split(cls,testing,0.7)\n",
    "  evl.test_model(cls, testing)\n",
    "  tic = time.perf_counter() - tic\n",
    "\n",
    "  # append subests and induction times\n",
    "  subset_accuracy_rates.append(float(evl.percent_correct))\n",
    "  subset_error_rates.append(float(evl.percent_incorrect))\n",
    "  induction_times.append(tic)\n",
    "\n",
    "\n",
    "print(subset_accuracy_rates)\n",
    "print(subset_error_rates)\n",
    "print(induction_times)\n",
    "print(examples)"
   ]
  },
  {
   "cell_type": "markdown",
   "metadata": {
    "id": "WsSa5jH2CiiN"
   },
   "source": [
    "### Plots"
   ]
  },
  {
   "cell_type": "code",
   "execution_count": null,
   "metadata": {
    "colab": {
     "base_uri": "https://localhost:8080/",
     "height": 295
    },
    "executionInfo": {
     "elapsed": 14919,
     "status": "ok",
     "timestamp": 1616879610280,
     "user": {
      "displayName": "Isaac Attuah",
      "photoUrl": "https://lh3.googleusercontent.com/a-/AOh14GgO8HkguNGfmgeV5lqvSrx9bdHAIZo3rNStgOKc9w=s64",
      "userId": "03432212012291159776"
     },
     "user_tz": 240
    },
    "id": "TTjxQ3K3Cmr5",
    "outputId": "464eca14-cbee-4f28-a727-6035b58cddb4"
   },
   "outputs": [
    {
     "data": {
      "image/png": "[encoded data removed]",
      "text/plain": [
       "<Figure size 432x288 with 1 Axes>"
      ]
     },
     "metadata": {
      "needs_background": "light",
      "tags": []
     },
     "output_type": "display_data"
    }
   ],
   "source": [
    "plt.plot(examples , subset_error_rates)\n",
    "plt.xlabel(\"Number of Examples\")\n",
    "plt.ylabel(\"Error Rate\")\n",
    "plt.title('Error Rate vs Number of Examples')\n",
    "#plt.savefig('drybean(errors).png')"
   ]
  },
  {
   "cell_type": "code",
   "execution_count": null,
   "metadata": {
    "colab": {
     "base_uri": "https://localhost:8080/",
     "height": 295
    },
    "executionInfo": {
     "elapsed": 14910,
     "status": "ok",
     "timestamp": 1616879610281,
     "user": {
      "displayName": "Isaac Attuah",
      "photoUrl": "https://lh3.googleusercontent.com/a-/AOh14GgO8HkguNGfmgeV5lqvSrx9bdHAIZo3rNStgOKc9w=s64",
      "userId": "03432212012291159776"
     },
     "user_tz": 240
    },
    "id": "JRIBiwHHCnZ1",
    "outputId": "91ad0b32-bd4a-4f39-ebef-484b67684abd"
   },
   "outputs": [
    {
     "data": {
      "image/png": "[encoded data removed]",
      "text/plain": [
       "<Figure size 432x288 with 1 Axes>"
      ]
     },
     "metadata": {
      "needs_background": "light",
      "tags": []
     },
     "output_type": "display_data"
    }
   ],
   "source": [
    "plt.plot(examples , induction_times)\n",
    "plt.xlabel(\"Number of Examples\")\n",
    "plt.ylabel(\"Computational Time of Induction\")\n",
    "plt.title('Computational Time of Induction vs Number of Examples')\n",
    "#plt.savefig('drybean(times).png')"
   ]
  },
  {
   "cell_type": "markdown",
   "metadata": {
    "id": "XjIt9xWPjkKT"
   },
   "source": [
    "## Connect 4"
   ]
  },
  {
   "cell_type": "markdown",
   "metadata": {
    "id": "lW59jC7EjqXH"
   },
   "source": [
    "### Load data"
   ]
  },
  {
   "cell_type": "code",
   "execution_count": null,
   "metadata": {
    "id": "bbwUoJJhj5_b"
   },
   "outputs": [],
   "source": [
    "data = conv.load_any_file(os.environ.get(\"JAVA_HOME\")+os.sep+\"connect-4.csv\")\n",
    "data.randomize(Random(1))\n",
    "num_of_instances = data.num_instances\n",
    "training_allocation = int(0.70 * num_of_instances)\n",
    "training = data.subset(row_range='first-%s' %training_allocation)\n",
    "testing = data.subset(row_range='%s-last' %training_allocation)\n",
    "training.class_is_last() #class location\n",
    "testing.class_is_last()"
   ]
  },
  {
   "cell_type": "markdown",
   "metadata": {
    "id": "sJo5Y-DXjw5Y"
   },
   "source": [
    "### Configure Decision Tree Classifier"
   ]
  },
  {
   "cell_type": "code",
   "execution_count": null,
   "metadata": {
    "colab": {
     "base_uri": "https://localhost:8080/"
    },
    "executionInfo": {
     "elapsed": 3005,
     "status": "ok",
     "timestamp": 1616881707953,
     "user": {
      "displayName": "Isaac Attuah",
      "photoUrl": "https://lh3.googleusercontent.com/a-/AOh14GgO8HkguNGfmgeV5lqvSrx9bdHAIZo3rNStgOKc9w=s64",
      "userId": "03432212012291159776"
     },
     "user_tz": 240
    },
    "id": "RRLjoPlpj6w1",
    "outputId": "312b866d-7c95-47d6-e760-9249fe91226a"
   },
   "outputs": [
    {
     "name": "stdout",
     "output_type": "stream",
     "text": [
      "=== J48 on Connect 4 (stats) ===\n",
      "Correctly Classified Instances       16366               80.744  %\n",
      "Incorrectly Classified Instances      3903               19.256  %\n",
      "Kappa statistic                          0.5926\n",
      "Mean absolute error                      0.1662\n",
      "Root mean squared error                  0.3235\n",
      "Relative absolute error                 49.9857 %\n",
      "Root relative squared error             79.334  %\n",
      "Total Number of Instances            20269     \n",
      "\n",
      "=== J48 on Connect 4 (confusion matrix) ===\n",
      "     a     b     c   <-- classified as\n",
      " 12263   343   685 |     a = win\n",
      "   928   498   500 |     b = draw\n",
      "  1118   329  3605 |     c = loss\n",
      "\n"
     ]
    }
   ],
   "source": [
    "# configure classifier\n",
    "cls = Classifier(classname=\"weka.classifiers.trees.J48\", options=[\"-C\", \"0.3\"])\n",
    "cls.build_classifier(training)\n",
    "# cross-validate classifier\n",
    "\n",
    "evl = Evaluation(testing)\n",
    "#evl.crossvalidate_model(cls, testing, 10, Random(1))\n",
    "#evl.evaluate_train_test_split(cls,testing,0.7)\n",
    "evl.test_model(cls, testing)\n",
    "\n",
    "\n",
    "# output statistics\n",
    "print(evl.summary(\"=== J48 on Connect 4 (stats) ===\", False))\n",
    "print(evl.matrix(\"=== J48 on Connect 4 (confusion matrix) ===\"))\n",
    "#print(evl.percent_correct)\n",
    "#print(evl.percent_incorrect)"
   ]
  },
  {
   "cell_type": "markdown",
   "metadata": {
    "id": "iSxaBdUkj1AY"
   },
   "source": [
    "### Configure Decision Tree Classifier on Subsets"
   ]
  },
  {
   "cell_type": "code",
   "execution_count": 36,
   "metadata": {
    "colab": {
     "base_uri": "https://localhost:8080/"
    },
    "executionInfo": {
     "elapsed": 5967,
     "status": "ok",
     "timestamp": 1616882006915,
     "user": {
      "displayName": "Isaac Attuah",
      "photoUrl": "https://lh3.googleusercontent.com/a-/AOh14GgO8HkguNGfmgeV5lqvSrx9bdHAIZo3rNStgOKc9w=s64",
      "userId": "03432212012291159776"
     },
     "user_tz": 240
    },
    "id": "b1kgVR2sj7ma",
    "outputId": "d974cee8-9137-4393-947b-19d9e7850587"
   },
   "outputs": [
    {
     "name": "stdout",
     "output_type": "stream",
     "text": [
      "[72.58374858157778, 75.61793872416004, 75.98302826977157, 77.75913957274656, 78.21303468350683, 78.77053628694065, 78.52385416152745, 79.24909961024224, 79.98914598648182, 80.7439932902462]\n",
      "[27.41625141842222, 24.382061275839952, 24.016971730228427, 22.24086042725344, 21.786965316493166, 21.229463713059353, 21.476145838472544, 20.750900389757756, 20.01085401351818, 19.256006709753812]\n",
      "[0.08218346299963741, 0.14914073399995686, 0.23707569700036402, 0.3135894120005105, 0.44755733300007705, 0.5443337850001626, 0.7100837079997291, 0.801254672000141, 0.9641427420001492, 1.061305844999879]\n",
      "[4728, 9457, 14186, 18915, 23644, 28373, 33102, 37831, 42560, 47289]\n"
     ]
    }
   ],
   "source": [
    "# generate subsets\n",
    "num_of_instances = training.num_instances\n",
    "num_of_subsets = 10\n",
    "subset_accuracy_rates = []\n",
    "subset_error_rates = []\n",
    "induction_times = []\n",
    "examples = []\n",
    "\n",
    "for i in range(1,num_of_subsets + 1):\n",
    "  subset_val = int((i/num_of_subsets) * num_of_instances)\n",
    "  examples.append(subset_val)\n",
    "  x = training.subset(row_range='first-%s'%subset_val)\n",
    "\n",
    "\n",
    "  # configure classifier\n",
    "  tic = time.perf_counter()\n",
    "  cls = Classifier(classname=\"weka.classifiers.trees.J48\", options=[\"-C\", \"0.3\"])\n",
    "  cls.build_classifier(x)\n",
    "  # cross-validate classifier\n",
    "  evl = Evaluation(testing)\n",
    "  #evl.crossvalidate_model(cls, testing, 10, Random(1))\n",
    "  #evl.evaluate_train_test_split(cls,testing,0.7)\n",
    "  evl.test_model(cls, testing)\n",
    "  tic = time.perf_counter() - tic\n",
    "\n",
    "  # append subests and induction times\n",
    "  subset_accuracy_rates.append(float(evl.percent_correct))\n",
    "  subset_error_rates.append(float(evl.percent_incorrect))\n",
    "  induction_times.append(tic)\n",
    "\n",
    "\n",
    "print(subset_accuracy_rates)\n",
    "print(subset_error_rates)\n",
    "print(induction_times)\n",
    "print(examples)"
   ]
  },
  {
   "cell_type": "markdown",
   "metadata": {
    "id": "mTgzDJZuj24S"
   },
   "source": [
    "### Plots"
   ]
  },
  {
   "cell_type": "code",
   "execution_count": 31,
   "metadata": {
    "colab": {
     "base_uri": "https://localhost:8080/",
     "height": 295
    },
    "executionInfo": {
     "elapsed": 569,
     "status": "ok",
     "timestamp": 1616881847406,
     "user": {
      "displayName": "Isaac Attuah",
      "photoUrl": "https://lh3.googleusercontent.com/a-/AOh14GgO8HkguNGfmgeV5lqvSrx9bdHAIZo3rNStgOKc9w=s64",
      "userId": "03432212012291159776"
     },
     "user_tz": 240
    },
    "id": "aV5J891oj8b5",
    "outputId": "b768aea8-1b6b-4241-a701-5b8673c6b116"
   },
   "outputs": [
    {
     "data": {
      "image/png": "[encoded data removed]",
      "text/plain": [
       "<Figure size 432x288 with 1 Axes>"
      ]
     },
     "metadata": {
      "needs_background": "light",
      "tags": []
     },
     "output_type": "display_data"
    }
   ],
   "source": [
    "plt.plot(examples , subset_error_rates)\n",
    "plt.xlabel(\"Number of Examples\")\n",
    "plt.ylabel(\"Error Rate\")\n",
    "plt.title('Error Rate vs Number of Examples')\n",
    "plt.savefig('connect4(errors).png')"
   ]
  },
  {
   "cell_type": "code",
   "execution_count": 37,
   "metadata": {
    "colab": {
     "base_uri": "https://localhost:8080/",
     "height": 295
    },
    "executionInfo": {
     "elapsed": 569,
     "status": "ok",
     "timestamp": 1616882011512,
     "user": {
      "displayName": "Isaac Attuah",
      "photoUrl": "https://lh3.googleusercontent.com/a-/AOh14GgO8HkguNGfmgeV5lqvSrx9bdHAIZo3rNStgOKc9w=s64",
      "userId": "03432212012291159776"
     },
     "user_tz": 240
    },
    "id": "es6n-YXfkPn6",
    "outputId": "407f78a3-6a8d-45e7-a8b2-6ce32a59272a"
   },
   "outputs": [
    {
     "data": {
      "image/png": "[encoded data removed]",
      "text/plain": [
       "<Figure size 432x288 with 1 Axes>"
      ]
     },
     "metadata": {
      "needs_background": "light",
      "tags": []
     },
     "output_type": "display_data"
    }
   ],
   "source": [
    "plt.plot(examples , induction_times)\n",
    "plt.xlabel(\"Number of Examples\")\n",
    "plt.ylabel(\"Computational Time of Induction\")\n",
    "plt.title('Computational Time of Induction vs Number of Examples')\n",
    "plt.savefig('connect4(times).png')"
   ]
  },
  {
   "cell_type": "markdown",
   "metadata": {
    "id": "tUVHuyPDWeOd"
   },
   "source": [
    "# End Session"
   ]
  },
  {
   "cell_type": "code",
   "execution_count": null,
   "metadata": {
    "id": "xJXq1c6XWf1X"
   },
   "outputs": [],
   "source": [
    "# stop jvm\n",
    "# WARNING: JVM can only be run once. To re-run, click Runtime and Factory Reset Runtime\n",
    "#jvm.stop()"
   ]
  }
 ],
 "metadata": {
  "colab": {
   "collapsed_sections": [],
   "name": "Decision Trees (Version 2).ipynb",
   "provenance": [],
   "toc_visible": true
  },
  "kernelspec": {
   "display_name": "Python 3",
   "language": "python",
   "name": "python3"
  },
  "language_info": {
   "codemirror_mode": {
    "name": "ipython",
    "version": 3
   },
   "file_extension": ".py",
   "mimetype": "text/x-python",
   "name": "python",
   "nbconvert_exporter": "python",
   "pygments_lexer": "ipython3",
   "version": "3.8.5"
  }
 },
 "nbformat": 4,
 "nbformat_minor": 1
}
