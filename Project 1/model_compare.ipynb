{
 "cells": [
  {
   "cell_type": "code",
   "execution_count": 1,
   "metadata": {
    "ExecuteTime": {
     "end_time": "2018-02-22T18:04:38.894661Z",
     "start_time": "2018-02-22T18:04:38.123176Z"
    }
   },
   "outputs": [],
   "source": [
    "import numpy as np\n",
    "import matplotlib.pyplot as pl\n",
    "import seaborn as sns\n",
    "import pandas as pd\n",
    "\n",
    "from sklearn.naive_bayes import GaussianNB\n",
    "from sklearn.neighbors import KNeighborsClassifier\n",
    "from sklearn.tree import DecisionTreeClassifier\n",
    "from sklearn.ensemble import RandomForestClassifier\n",
    "from sklearn.linear_model import LogisticRegression\n",
    "from sklearn.svm import SVC\n",
    "from sklearn.model_selection import train_test_split\n",
    "from sklearn.preprocessing import StandardScaler, LabelEncoder\n",
    "from sklearn.metrics import confusion_matrix\n",
    "\n",
    "#pl.rc('text', usetex=True)\n",
    "#pl.style.use(\"publication\")\n",
    "\n",
    "%matplotlib inline"
   ]
  },
  {
   "cell_type": "code",
   "execution_count": 2,
   "metadata": {
    "ExecuteTime": {
     "end_time": "2018-02-22T18:04:38.918225Z",
     "start_time": "2018-02-22T18:04:38.900007Z"
    }
   },
   "outputs": [],
   "source": [
    "df = pd.read_csv(\"dow_jones.csv\")"
   ]
  },
  {
   "cell_type": "code",
   "execution_count": 3,
   "metadata": {
    "ExecuteTime": {
     "end_time": "2018-02-22T18:04:40.977260Z",
     "start_time": "2018-02-22T18:04:40.947350Z"
    }
   },
   "outputs": [],
   "source": [
    "X = df.iloc[:, [3, 14]].values\n",
    "y = df.iloc[:, 4].values\n",
    "\n",
    "X[:, 1] = X[:, 1] / 1000\n",
    "y = pd.cut(y,4,labels = False) #Values above 5 give a higher error rate\n",
    "X_train, X_test, y_train, y_test = train_test_split(X,y, test_size = 0.33, random_state = 17 )\n",
    "#X_train, X_test, y_train, y_test = train_test_split(X, y, test_size = 0.25, random_state = 0)\n",
    "\n",
    "# Feature Scaling\n",
    "sc = StandardScaler()\n",
    "X_train = sc.fit_transform(X_train)\n",
    "X_test = sc.transform(X_test)"
   ]
  },
  {
   "cell_type": "code",
   "execution_count": 4,
   "metadata": {
    "ExecuteTime": {
     "end_time": "2018-02-22T22:40:12.177097Z",
     "start_time": "2018-02-22T22:39:53.091370Z"
    },
    "scrolled": true
   },
   "outputs": [
    {
     "data": {
      "image/png": "[encoded data removed]",
      "text/plain": [
       "<Figure size 576x720 with 6 Axes>"
      ]
     },
     "metadata": {
      "needs_background": "light"
     },
     "output_type": "display_data"
    }
   ],
   "source": [
    "classifiers = [LogisticRegression(random_state=0),\n",
    "               SVC(kernel=\"rbf\", random_state=0),\n",
    "               GaussianNB(),\n",
    "               DecisionTreeClassifier(criterion='entropy', random_state=0, min_samples_split=20),\n",
    "               RandomForestClassifier(n_estimators=30, n_jobs=4,\n",
    "                                      criterion='entropy',\n",
    "                                      random_state=0, min_samples_split=40),\n",
    "               KNeighborsClassifier(p=2)]\n",
    "names = [\"Logistic Regression\", \"Kernel SVM\", \"Naive Bayes\",\n",
    "         \"Decision Tree\", \"Random Forest\", \"K-Nearest Neighbors\"]\n",
    "\n",
    "fig, axs = pl.subplots(3, 2, sharex=\"all\", sharey=\"all\", figsize=(8, 10))\n",
    "\n",
    "for ax, name, classifier in zip(np.array(axs).flatten(), names, classifiers):\n",
    "    classifier = classifier.fit(X_train, y_train)\n",
    "    y_pred = classifier.predict(X_test)\n",
    "    \n",
    "    cm = confusion_matrix(y_test, y_pred)\n",
    "\n",
    "    N = 1000\n",
    "    x1 = np.linspace(10, 70, N)\n",
    "    x2 = np.linspace(0, 175, N)\n",
    "    X1, X2 = np.meshgrid(x1, x2)\n",
    "    y_grid = classifier.predict(sc.transform(np.hstack([X1.flatten()[:, None],\n",
    "                                                        X2.flatten()[:, None]])))\n",
    "\n",
    "    pl.sca(ax)\n",
    "    pl.contourf(x1, x2, y_grid.reshape((N, N)), cmap=\"Set1\", alpha=.4)\n",
    "    pl.contour(x1, x2, y_grid.reshape((N, N)), colors=\"black\", linestyles=\"--\")\n",
    "    pl.scatter(*X.T, c=y,\n",
    "               cmap=\"Set1\", marker=\".\")\n",
    "    \n",
    "#     table = (r\"\\begin{tabular}{ c || c | c } \"\n",
    "#              r\"  & +  & - \\\\ \\hline \\hline\"\n",
    "#              r\"+ & %i & %i \\\\ \\hline\"\n",
    "#              r\"- & %i & %i \\\\\"\n",
    "#              r\"\\end{tabular}\") % tuple(cm.flatten().tolist())\n",
    "#     pl.text(44, 105, table, size=12, bbox=dict(facecolor='white',\n",
    "#                                                edgecolor='black',\n",
    "#                                                alpha=.8,\n",
    "#                                                pad=10))\n",
    "\n",
    "    pl.title(name)\n",
    "\n",
    "fig.text(0.5, 0.09, 'Age', ha='center', va='center')\n",
    "fig.text(0.07, 0.5, 'Salary (k\\$)', ha='center', va='center', rotation='vertical')\n",
    "fig.savefig(\"classifiers_comparison.png\", dpi=300)"
   ]
  },
  {
   "cell_type": "code",
   "execution_count": null,
   "metadata": {},
   "outputs": [],
   "source": []
  }
 ],
 "metadata": {
  "_draft": {
   "nbviewer_url": "https://gist.github.com/127f1dc38ac582a83d9618407fdbaedb"
  },
  "gist": {
   "data": {
    "description": "classifiers comparison",
    "public": true
   },
   "id": "127f1dc38ac582a83d9618407fdbaedb"
  },
  "kernelspec": {
   "display_name": "Python 3",
   "language": "python",
   "name": "python3"
  },
  "language_info": {
   "codemirror_mode": {
    "name": "ipython",
    "version": 3
   },
   "file_extension": ".py",
   "mimetype": "text/x-python",
   "name": "python",
   "nbconvert_exporter": "python",
   "pygments_lexer": "ipython3",
   "version": "3.8.5"
  },
  "toc": {
   "colors": {
    "hover_highlight": "#DAA520",
    "running_highlight": "#FF0000",
    "selected_highlight": "#FFD700"
   },
   "moveMenuLeft": true,
   "nav_menu": {
    "height": "11px",
    "width": "251px"
   },
   "navigate_menu": true,
   "number_sections": true,
   "sideBar": true,
   "threshold": 4,
   "toc_cell": false,
   "toc_section_display": "block",
   "toc_window_display": false
  }
 },
 "nbformat": 4,
 "nbformat_minor": 2
}
